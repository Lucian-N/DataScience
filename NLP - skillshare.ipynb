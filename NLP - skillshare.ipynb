{
 "cells": [
  {
   "cell_type": "code",
   "execution_count": 7,
   "metadata": {
    "collapsed": true,
    "deletable": true,
    "editable": true
   },
   "outputs": [],
   "source": [
    "# numpy and scipy practice\n",
    "# numpy arrays are sets of N dimensional points and perform operations on them\n"
   ]
  },
  {
   "cell_type": "code",
   "execution_count": 8,
   "metadata": {
    "collapsed": true,
    "deletable": true,
    "editable": true
   },
   "outputs": [],
   "source": [
    "import numpy as np"
   ]
  },
  {
   "cell_type": "code",
   "execution_count": 9,
   "metadata": {
    "collapsed": false,
    "deletable": true,
    "editable": true
   },
   "outputs": [
    {
     "name": "stdout",
     "output_type": "stream",
     "text": [
      "[0 2 4 6 8]\n"
     ]
    }
   ],
   "source": [
    "# 1D array is similar to a list\n",
    "array1d =np.array([0,2,4,6,8])\n",
    "print (array1d)"
   ]
  },
  {
   "cell_type": "code",
   "execution_count": 10,
   "metadata": {
    "collapsed": false,
    "deletable": true,
    "editable": true
   },
   "outputs": [
    {
     "name": "stdout",
     "output_type": "stream",
     "text": [
      "[[0 2 4 6 8]\n",
      " [0 2 4 6 8]]\n"
     ]
    }
   ],
   "source": [
    "# 2D array is similar to grid\n",
    "array2d = np.array([[0,2,4,6,8],[0,2,4,6,8]])\n",
    "print (array2d)"
   ]
  },
  {
   "cell_type": "code",
   "execution_count": 11,
   "metadata": {
    "collapsed": false,
    "deletable": true,
    "editable": true
   },
   "outputs": [
    {
     "name": "stdout",
     "output_type": "stream",
     "text": [
      "<class 'numpy.ndarray'>\n",
      "<class 'numpy.ndarray'>\n",
      "(5,)\n",
      "(2, 5)\n"
     ]
    }
   ],
   "source": [
    "# type returns the data type \n",
    "print (type(array1d))\n",
    "print (type(array2d))\n",
    "#shape is a tuple which contains the size of the array ( #rows, #cols)\n",
    "print (array1d.shape)\n",
    "print (array2d.shape)"
   ]
  },
  {
   "cell_type": "code",
   "execution_count": 12,
   "metadata": {
    "collapsed": false,
    "deletable": true,
    "editable": true
   },
   "outputs": [
    {
     "name": "stdout",
     "output_type": "stream",
     "text": [
      "0\n",
      "0\n"
     ]
    }
   ],
   "source": [
    "# element indexing done similar to lists in py\n",
    "print (array1d[0])\n",
    "print (array2d[0,0])"
   ]
  },
  {
   "cell_type": "code",
   "execution_count": 13,
   "metadata": {
    "collapsed": false,
    "deletable": true,
    "editable": true
   },
   "outputs": [
    {
     "name": "stdout",
     "output_type": "stream",
     "text": [
      "[2 4 6 8]\n"
     ]
    }
   ],
   "source": [
    "# py list synthax also works with : to specify from begining to end, etc\n",
    "# colon includes starting point, but excludes ending point\n",
    "print (array1d[1:]) # returns all elements starting with 2nd\n"
   ]
  },
  {
   "cell_type": "code",
   "execution_count": 14,
   "metadata": {
    "collapsed": false,
    "deletable": true,
    "editable": true
   },
   "outputs": [
    {
     "name": "stdout",
     "output_type": "stream",
     "text": [
      "[2 4 6 8]\n"
     ]
    }
   ],
   "source": [
    "print (array2d[1,1:]) #returns elements in the 2nd row "
   ]
  },
  {
   "cell_type": "code",
   "execution_count": 15,
   "metadata": {
    "collapsed": false,
    "deletable": true,
    "editable": true
   },
   "outputs": [
    {
     "name": "stdout",
     "output_type": "stream",
     "text": [
      "<class 'numpy.ndarray'>\n"
     ]
    }
   ],
   "source": [
    "# result of numpy array is a subset of original array\n",
    "subarray2d = array2d[1,1:]\n",
    "print (type(subarray2d))"
   ]
  },
  {
   "cell_type": "code",
   "execution_count": 16,
   "metadata": {
    "collapsed": false,
    "deletable": true,
    "editable": true
   },
   "outputs": [
    {
     "data": {
      "text/plain": [
       "array([3, 5, 4])"
      ]
     },
     "execution_count": 16,
     "metadata": {},
     "output_type": "execute_result"
    }
   ],
   "source": [
    "#other ways to index numpy arrays\n",
    "#symmetrical arrays\n",
    "lists = [[1,2,3,4,5,6,7],[1,2,3,4,5,6,7],[1,2,3,4,5,6,7]]\n",
    "new2dArray=np.array(lists)\n",
    "newSubArray=new2dArray[[1,0,2],[2,4,3]]\n",
    "newSubArray\n",
    "\n",
    "#nonsymmetrical arrays\n",
    "length = len(sorted(lists,key=len, reverse=True)[0])\n",
    "new2dArray=np.array([elems+[None]*(length-len(elems)) for elems in lists])\n",
    "newSubArray=new2dArray[[1,0,2],[2,4,3]]\n",
    "newSubArray"
   ]
  },
  {
   "cell_type": "code",
   "execution_count": 20,
   "metadata": {
    "collapsed": false,
    "deletable": true,
    "editable": true
   },
   "outputs": [
    {
     "data": {
      "text/plain": [
       "[array([[False, False, False,  True,  True,  True,  True],\n",
       "        [False, False, False,  True,  True,  True,  True],\n",
       "        [False, False, False,  True,  True,  True,  True]], dtype=bool)]"
      ]
     },
     "execution_count": 20,
     "metadata": {},
     "output_type": "execute_result"
    }
   ],
   "source": [
    "#conditional arrays\n",
    "newSubArray=[new2dArray>3]\n",
    "newSubArray"
   ]
  },
  {
   "cell_type": "code",
   "execution_count": 29,
   "metadata": {
    "collapsed": false,
    "deletable": true,
    "editable": true
   },
   "outputs": [
    {
     "name": "stdout",
     "output_type": "stream",
     "text": [
      "[[0 0]\n",
      " [0 0]] \n",
      " [[ 1.  1.]] \n",
      " [[7 7 7 7 7 7 7]\n",
      " [7 7 7 7 7 7 7]\n",
      " [7 7 7 7 7 7 7]] \n",
      " [[ 1.  0.]\n",
      " [ 0.  1.]]\n"
     ]
    }
   ],
   "source": [
    "#array creation via np, size passed in as a tuple\n",
    "#array of 0\n",
    "arrayOfZeros = np.zeros((2,2), dtype='int64')\n",
    "\n",
    "#array of 1\n",
    "#default value is float\n",
    "arrayOfOnes = np.ones((1,2))\n",
    "\n",
    "# array with same size and shape as passed in array, filled with specified element\n",
    "arrayOfSevens = np.full(new2dArray.shape, 7)\n",
    "\n",
    "# 2x2 identity matrix, all diagonal elements are 1 and all non diag are 0\n",
    "identityMatrix = np.eye(2)\n",
    "\n",
    "print (arrayOfZeros,'\\n', arrayOfOnes, '\\n',arrayOfSevens,'\\n', identityMatrix)"
   ]
  },
  {
   "cell_type": "code",
   "execution_count": 31,
   "metadata": {
    "collapsed": false,
    "deletable": true,
    "editable": true
   },
   "outputs": [
    {
     "data": {
      "text/plain": [
       "array([[ 0.42573945,  0.63049447],\n",
       "       [ 0.22158613,  0.72614589]])"
      ]
     },
     "execution_count": 31,
     "metadata": {},
     "output_type": "execute_result"
    }
   ],
   "source": [
    "# array of random numbers, numpy documentation for different distributions\n",
    "arrayOfRandom = np.random.random((2,2))\n",
    "arrayOfRandom"
   ]
  },
  {
   "cell_type": "code",
   "execution_count": 38,
   "metadata": {
    "collapsed": false,
    "deletable": true,
    "editable": true
   },
   "outputs": [
    {
     "name": "stdout",
     "output_type": "stream",
     "text": [
      "(3, 7) (7, 3)\n",
      "(1, 21)\n"
     ]
    }
   ],
   "source": [
    "#change array shape and size\n",
    "transposeArray = np.transpose(new2dArray)\n",
    "print (new2dArray.shape, transposeArray.shape)\n",
    "#can reshape into any shape if the total # of elements is the same\n",
    "reshapedArray = np.reshape(new2dArray, [1,21])\n",
    "print (reshapedArray.shape)"
   ]
  },
  {
   "cell_type": "code",
   "execution_count": 41,
   "metadata": {
    "collapsed": false,
    "deletable": true,
    "editable": true
   },
   "outputs": [
    {
     "data": {
      "text/plain": [
       "array([[ 2,  4,  6],\n",
       "       [ 8, 10, 12]])"
      ]
     },
     "execution_count": 41,
     "metadata": {},
     "output_type": "execute_result"
    }
   ],
   "source": [
    "#mathematical operations : +, - , / , *  for element wise operations on 2 numpy arrays\n",
    "#all arrays must be of same dimension\n",
    "array1 = np.array([[1,2,3],[4,5,6]])\n",
    "array2 = np.array([[1,2,3],[4,5,6]])\n",
    "array3 = array1 + array2\n",
    "array3\n",
    "\n",
    "#instead of math operators, specific functions exist\n",
    "# np.add np.subtract, np.divide, np.multiply"
   ]
  },
  {
   "cell_type": "code",
   "execution_count": 42,
   "metadata": {
    "collapsed": false,
    "deletable": true,
    "editable": true
   },
   "outputs": [
    {
     "data": {
      "text/plain": [
       "array([[ 2,  6, 10],\n",
       "       [ 5,  9, 13]])"
      ]
     },
     "execution_count": 42,
     "metadata": {},
     "output_type": "execute_result"
    }
   ],
   "source": [
    "#broadcasting is a way to do math on different size arrays\n",
    "#must align at least along one dimension\n",
    "\n",
    "array4 =[[1,4,7]]\n",
    "array1 + array4"
   ]
  },
  {
   "cell_type": "code",
   "execution_count": 45,
   "metadata": {
    "collapsed": false,
    "deletable": true,
    "editable": true
   },
   "outputs": [
    {
     "data": {
      "text/plain": [
       "array([[14, 32],\n",
       "       [32, 77]])"
      ]
     },
     "execution_count": 45,
     "metadata": {},
     "output_type": "execute_result"
    }
   ],
   "source": [
    "# important operation : inner product of 2 arrays\n",
    "# or matrix multiplication ( dot product of every row of the first matrix\n",
    "# with every column of the right side matrix for all rows )\n",
    "# dot product = inner product\n",
    "# number of left matrix rows = number of right matrix columns for this to work\n",
    "# .T short hand for transpose\n",
    "np.dot(array1, array2.T)\n"
   ]
  },
  {
   "cell_type": "code",
   "execution_count": 46,
   "metadata": {
    "collapsed": false,
    "deletable": true,
    "editable": true
   },
   "outputs": [
    {
     "data": {
      "text/plain": [
       "array([5, 7, 9])"
      ]
     },
     "execution_count": 46,
     "metadata": {},
     "output_type": "execute_result"
    }
   ],
   "source": [
    "# You can add / multiply all elements along 1 dimension ( axis)\n",
    "# similar to compressing array along 1 axis\n",
    "#rows\n",
    "np.sum(array1, axis=0)"
   ]
  },
  {
   "cell_type": "code",
   "execution_count": 47,
   "metadata": {
    "collapsed": false,
    "deletable": true,
    "editable": true
   },
   "outputs": [
    {
     "data": {
      "text/plain": [
       "array([ 6, 15])"
      ]
     },
     "execution_count": 47,
     "metadata": {},
     "output_type": "execute_result"
    }
   ],
   "source": [
    "#columns\n",
    "np.sum(array1, axis=1)"
   ]
  },
  {
   "cell_type": "code",
   "execution_count": 51,
   "metadata": {
    "collapsed": false,
    "deletable": true,
    "editable": true
   },
   "outputs": [
    {
     "data": {
      "text/plain": [
       "array([[1, 2, 3, 1, 2, 3],\n",
       "       [4, 5, 6, 4, 5, 6]])"
      ]
     },
     "execution_count": 51,
     "metadata": {},
     "output_type": "execute_result"
    }
   ],
   "source": [
    "#merging arrays is done via hstack or vstack, these take in\n",
    "# a list or tuple array of arrays then stacks the mvertically\n",
    "arrayNew = np.vstack((array1, array2))\n",
    "\n"
   ]
  },
  {
   "cell_type": "code",
   "execution_count": 52,
   "metadata": {
    "collapsed": true,
    "deletable": true,
    "editable": true
   },
   "outputs": [],
   "source": [
    "#Scipy has many modules that help compute mathematical functions\n",
    "#distance between 2 points, derivatives, integrals,\n",
    "#spatial module given 2 points we can find \n",
    "# could be eucledian distance, cosine distance, etc, correlation , hamming\n",
    "#check docs\n",
    "\n",
    "from scipy.spatial.distance import correlation, cosine, pdist, squareform"
   ]
  },
  {
   "cell_type": "code",
   "execution_count": 53,
   "metadata": {
    "collapsed": false,
    "deletable": true,
    "editable": true
   },
   "outputs": [
    {
     "data": {
      "text/plain": [
       "1.5"
      ]
     },
     "execution_count": 53,
     "metadata": {},
     "output_type": "execute_result"
    }
   ],
   "source": [
    "array1=np.array([0,1,0])\n",
    "array2=np.array([1,0,0])\n",
    "correlation(array1, array2)"
   ]
  },
  {
   "cell_type": "code",
   "execution_count": 55,
   "metadata": {
    "collapsed": false,
    "deletable": true,
    "editable": true
   },
   "outputs": [
    {
     "name": "stdout",
     "output_type": "stream",
     "text": [
      "[[ 0.          1.41421356]\n",
      " [ 1.41421356  0.        ]]\n"
     ]
    }
   ],
   "source": [
    "#computes pairwise distance between all rows of allPoints\n",
    "# d will be square matrix with d[i,j] being the Euclidean dist\n",
    "#between allpoints[i,:] and allpoints[j,:]\n",
    "# documentation found in Scipy doc\n",
    "\n",
    "allPoints =np.vstack([array1,array2])\n",
    "d=squareform(pdist(allPoints, 'euclidean'))\n",
    "\n",
    "\n",
    "print(d)"
   ]
  },
  {
   "cell_type": "code",
   "execution_count": 1,
   "metadata": {
    "collapsed": false,
    "deletable": true,
    "editable": true
   },
   "outputs": [
    {
     "name": "stdout",
     "output_type": "stream",
     "text": [
      "True\n"
     ]
    }
   ],
   "source": [
    "# check for subString in stringVar\n",
    "stringVar = 'darkgrey'\n",
    "if 'grey' in stringVar:\n",
    "    print (True)"
   ]
  },
  {
   "cell_type": "code",
   "execution_count": 4,
   "metadata": {
    "collapsed": false,
    "deletable": true,
    "editable": true
   },
   "outputs": [
    {
     "name": "stdout",
     "output_type": "stream",
     "text": [
      "tony@ti\n",
      "tony@tiremove_this\n"
     ]
    }
   ],
   "source": [
    "# Regular expressions / Regex / Re\n",
    "# check for 'grey' or 'white \n",
    "# use pipe 'grey|white'\n",
    "# () used to separate or group\n",
    "# example 'gr(a|e)y' gray or grey\n",
    "# search for repeating patterns and number of pattern repeats\n",
    "# with ?, *, +, {n}, {min,max} - must be consecutive repeats\n",
    "# ? matches 0 or 1 occurences of the previous element\n",
    "# colou?r -> color or color\n",
    "# * matches 0 or more appearances\n",
    "# colou*r -> color, colour colouur, etc\n",
    "# + similar to star, but atleast 1 occurence cant be 0 occurences\n",
    "# {n} exactly n times\n",
    "# 'colou{2}r' -> colouur\n",
    "# {n,} -> at least 2 times\n",
    "# {m,n} -> at least m at most n occurences\n",
    "# specify which set of characters can be matched\n",
    "# [bhc]at -> bat, hat, cat\n",
    "# [a-z] -> a,b,c,d,e,....z\n",
    "# [a-z0-9] a-z or 0-9\n",
    "# [a-cx-z] a,b,c,x,y,z\n",
    "# regex for a word with 3 letters:\n",
    "# '\\s[a-z]{3}\\s' \\s is simply the space\n",
    "#  can also specify which chars should not be patch\n",
    "# [^bhc]at -> all words ending in at except bat,hat,cat\n",
    "# any word that matches a hashtag '#[a-z0-9]+\\s'\n",
    "# find position where pattern occurs re.search()\n",
    "# if exists it returns the first occurence(object) or none if no occurence\n",
    "\n",
    "import re \n",
    "\n",
    "email = \"tony@tiremove_thisger.net\"\n",
    "m = re.search(\"remove_this\", email)\n",
    "print (email[:m.start()])\n",
    "\n"
   ]
  },
  {
   "cell_type": "code",
   "execution_count": 5,
   "metadata": {
    "collapsed": false,
    "deletable": true,
    "editable": true
   },
   "outputs": [
    {
     "data": {
      "text/plain": [
       "['#mondays', '#mondayblues']"
      ]
     },
     "execution_count": 5,
     "metadata": {},
     "output_type": "execute_result"
    }
   ],
   "source": [
    "#finding all the occurences\n",
    "# re.findall() , re.finditer()\n",
    "tweet = \"#mondays #mondayblues I hate Mondays!\"\n",
    "#returns a list of strings\n",
    "re.findall(r\"#[a-z]+\", tweet)"
   ]
  },
  {
   "cell_type": "code",
   "execution_count": 29,
   "metadata": {
    "collapsed": false,
    "deletable": true,
    "editable": true
   },
   "outputs": [],
   "source": [
    "# finditer() can be used to return objects\n",
    "# and to know the positions as well as the text\n",
    "# link to useful  https://www.machinelearningplus.com/python/python-regex-tutorial-examples/\n",
    "# re.sub replaces  (whatToReplace, replaceWith, containingbjectOrString)"
   ]
  },
  {
   "cell_type": "code",
   "execution_count": 30,
   "metadata": {
    "collapsed": true,
    "deletable": true,
    "editable": true
   },
   "outputs": [],
   "source": [
    "# Sentiment Analysis Implementation"
   ]
  },
  {
   "cell_type": "code",
   "execution_count": null,
   "metadata": {
    "collapsed": true,
    "deletable": true,
    "editable": true
   },
   "outputs": [],
   "source": [
    "# accept a user Search term, and return current \n",
    "# sentiment positive/ negative\n",
    "\n"
   ]
  }
 ],
 "metadata": {
  "kernelspec": {
   "display_name": "Python 3",
   "language": "python",
   "name": "python3"
  },
  "language_info": {
   "codemirror_mode": {
    "name": "ipython",
    "version": 3
   },
   "file_extension": ".py",
   "mimetype": "text/x-python",
   "name": "python",
   "nbconvert_exporter": "python",
   "pygments_lexer": "ipython3",
   "version": "3.5.2"
  }
 },
 "nbformat": 4,
 "nbformat_minor": 2
}
